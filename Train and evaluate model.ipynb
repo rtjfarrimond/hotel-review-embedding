{
 "cells": [
  {
   "cell_type": "code",
   "execution_count": 1,
   "metadata": {
    "collapsed": false
   },
   "outputs": [],
   "source": [
    "%matplotlib inline\n",
    "\n",
    "import pandas as pd\n",
    "import numpy as np\n",
    "import seaborn as sns\n",
    "import string, itertools\n",
    "\n",
    "from gensim.models.doc2vec import Doc2Vec, TaggedDocument\n",
    "from sklearn.model_selection import train_test_split\n",
    "from sklearn.metrics import confusion_matrix\n",
    "from matplotlib import pyplot as plt\n",
    "from langdetect import detect\n",
    "from langdetect import DetectorFactory\n",
    "from nltk.tokenize import word_tokenize\n",
    "from scipy import stats\n",
    "\n",
    "DetectorFactory.seed = 0 # enforce deterministic language detection for short / ambiguous text\n",
    "\n",
    "sns.set()\n",
    "plt.rcParams['figure.figsize'] = (10, 6)"
   ]
  },
  {
   "cell_type": "markdown",
   "metadata": {},
   "source": [
    "# Hotel Reviews Embedding"
   ]
  },
  {
   "cell_type": "markdown",
   "metadata": {},
   "source": [
    "## Read and examine the data"
   ]
  },
  {
   "cell_type": "code",
   "execution_count": 2,
   "metadata": {
    "collapsed": true
   },
   "outputs": [],
   "source": [
    "data = pd.read_csv('./data.csv')"
   ]
  },
  {
   "cell_type": "code",
   "execution_count": 3,
   "metadata": {
    "collapsed": false,
    "scrolled": false
   },
   "outputs": [
    {
     "data": {
      "text/plain": [
       "(35912, 19)"
      ]
     },
     "execution_count": 3,
     "metadata": {},
     "output_type": "execute_result"
    }
   ],
   "source": [
    "data.shape"
   ]
  },
  {
   "cell_type": "code",
   "execution_count": 4,
   "metadata": {
    "collapsed": false
   },
   "outputs": [
    {
     "data": {
      "text/plain": [
       "['address',\n",
       " 'categories',\n",
       " 'city',\n",
       " 'country',\n",
       " 'latitude',\n",
       " 'longitude',\n",
       " 'name',\n",
       " 'postalCode',\n",
       " 'province',\n",
       " 'reviews.date',\n",
       " 'reviews.dateAdded',\n",
       " 'reviews.doRecommend',\n",
       " 'reviews.id',\n",
       " 'reviews.rating',\n",
       " 'reviews.text',\n",
       " 'reviews.title',\n",
       " 'reviews.userCity',\n",
       " 'reviews.username',\n",
       " 'reviews.userProvince']"
      ]
     },
     "execution_count": 4,
     "metadata": {},
     "output_type": "execute_result"
    }
   ],
   "source": [
    "list(data.columns.values)"
   ]
  },
  {
   "cell_type": "code",
   "execution_count": 5,
   "metadata": {
    "collapsed": false,
    "scrolled": true
   },
   "outputs": [
    {
     "data": {
      "text/html": [
       "<div>\n",
       "<style>\n",
       "    .dataframe thead tr:only-child th {\n",
       "        text-align: right;\n",
       "    }\n",
       "\n",
       "    .dataframe thead th {\n",
       "        text-align: left;\n",
       "    }\n",
       "\n",
       "    .dataframe tbody tr th {\n",
       "        vertical-align: top;\n",
       "    }\n",
       "</style>\n",
       "<table border=\"1\" class=\"dataframe\">\n",
       "  <thead>\n",
       "    <tr style=\"text-align: right;\">\n",
       "      <th></th>\n",
       "      <th>address</th>\n",
       "      <th>categories</th>\n",
       "      <th>city</th>\n",
       "      <th>country</th>\n",
       "      <th>latitude</th>\n",
       "      <th>longitude</th>\n",
       "      <th>name</th>\n",
       "      <th>postalCode</th>\n",
       "      <th>province</th>\n",
       "      <th>reviews.date</th>\n",
       "      <th>reviews.dateAdded</th>\n",
       "      <th>reviews.doRecommend</th>\n",
       "      <th>reviews.id</th>\n",
       "      <th>reviews.rating</th>\n",
       "      <th>reviews.text</th>\n",
       "      <th>reviews.title</th>\n",
       "      <th>reviews.userCity</th>\n",
       "      <th>reviews.username</th>\n",
       "      <th>reviews.userProvince</th>\n",
       "    </tr>\n",
       "  </thead>\n",
       "  <tbody>\n",
       "    <tr>\n",
       "      <th>0</th>\n",
       "      <td>Riviera San Nicol 11/a</td>\n",
       "      <td>Hotels</td>\n",
       "      <td>Mableton</td>\n",
       "      <td>US</td>\n",
       "      <td>45.421611</td>\n",
       "      <td>12.376187</td>\n",
       "      <td>Hotel Russo Palace</td>\n",
       "      <td>30126</td>\n",
       "      <td>GA</td>\n",
       "      <td>2013-09-22T00:00:00Z</td>\n",
       "      <td>2016-10-24T00:00:25Z</td>\n",
       "      <td>NaN</td>\n",
       "      <td>NaN</td>\n",
       "      <td>4.0</td>\n",
       "      <td>Pleasant 10 min walk along the sea front to th...</td>\n",
       "      <td>Good location away from the crouds</td>\n",
       "      <td>NaN</td>\n",
       "      <td>Russ (kent)</td>\n",
       "      <td>NaN</td>\n",
       "    </tr>\n",
       "    <tr>\n",
       "      <th>1</th>\n",
       "      <td>Riviera San Nicol 11/a</td>\n",
       "      <td>Hotels</td>\n",
       "      <td>Mableton</td>\n",
       "      <td>US</td>\n",
       "      <td>45.421611</td>\n",
       "      <td>12.376187</td>\n",
       "      <td>Hotel Russo Palace</td>\n",
       "      <td>30126</td>\n",
       "      <td>GA</td>\n",
       "      <td>2015-04-03T00:00:00Z</td>\n",
       "      <td>2016-10-24T00:00:25Z</td>\n",
       "      <td>NaN</td>\n",
       "      <td>NaN</td>\n",
       "      <td>5.0</td>\n",
       "      <td>Really lovely hotel. Stayed on the very top fl...</td>\n",
       "      <td>Great hotel with Jacuzzi bath!</td>\n",
       "      <td>NaN</td>\n",
       "      <td>A Traveler</td>\n",
       "      <td>NaN</td>\n",
       "    </tr>\n",
       "    <tr>\n",
       "      <th>2</th>\n",
       "      <td>Riviera San Nicol 11/a</td>\n",
       "      <td>Hotels</td>\n",
       "      <td>Mableton</td>\n",
       "      <td>US</td>\n",
       "      <td>45.421611</td>\n",
       "      <td>12.376187</td>\n",
       "      <td>Hotel Russo Palace</td>\n",
       "      <td>30126</td>\n",
       "      <td>GA</td>\n",
       "      <td>2014-05-13T00:00:00Z</td>\n",
       "      <td>2016-10-24T00:00:25Z</td>\n",
       "      <td>NaN</td>\n",
       "      <td>NaN</td>\n",
       "      <td>5.0</td>\n",
       "      <td>Ett mycket bra hotell. Det som drog ner betyge...</td>\n",
       "      <td>Lugnt l��ge</td>\n",
       "      <td>NaN</td>\n",
       "      <td>Maud</td>\n",
       "      <td>NaN</td>\n",
       "    </tr>\n",
       "    <tr>\n",
       "      <th>3</th>\n",
       "      <td>Riviera San Nicol 11/a</td>\n",
       "      <td>Hotels</td>\n",
       "      <td>Mableton</td>\n",
       "      <td>US</td>\n",
       "      <td>45.421611</td>\n",
       "      <td>12.376187</td>\n",
       "      <td>Hotel Russo Palace</td>\n",
       "      <td>30126</td>\n",
       "      <td>GA</td>\n",
       "      <td>2013-10-27T00:00:00Z</td>\n",
       "      <td>2016-10-24T00:00:25Z</td>\n",
       "      <td>NaN</td>\n",
       "      <td>NaN</td>\n",
       "      <td>5.0</td>\n",
       "      <td>We stayed here for four nights in October. The...</td>\n",
       "      <td>Good location on the Lido.</td>\n",
       "      <td>NaN</td>\n",
       "      <td>Julie</td>\n",
       "      <td>NaN</td>\n",
       "    </tr>\n",
       "    <tr>\n",
       "      <th>4</th>\n",
       "      <td>Riviera San Nicol 11/a</td>\n",
       "      <td>Hotels</td>\n",
       "      <td>Mableton</td>\n",
       "      <td>US</td>\n",
       "      <td>45.421611</td>\n",
       "      <td>12.376187</td>\n",
       "      <td>Hotel Russo Palace</td>\n",
       "      <td>30126</td>\n",
       "      <td>GA</td>\n",
       "      <td>2015-03-05T00:00:00Z</td>\n",
       "      <td>2016-10-24T00:00:25Z</td>\n",
       "      <td>NaN</td>\n",
       "      <td>NaN</td>\n",
       "      <td>5.0</td>\n",
       "      <td>We stayed here for four nights in October. The...</td>\n",
       "      <td>������ ���������������</td>\n",
       "      <td>NaN</td>\n",
       "      <td>sungchul</td>\n",
       "      <td>NaN</td>\n",
       "    </tr>\n",
       "  </tbody>\n",
       "</table>\n",
       "</div>"
      ],
      "text/plain": [
       "                  address categories      city country   latitude  longitude  \\\n",
       "0  Riviera San Nicol 11/a     Hotels  Mableton      US  45.421611  12.376187   \n",
       "1  Riviera San Nicol 11/a     Hotels  Mableton      US  45.421611  12.376187   \n",
       "2  Riviera San Nicol 11/a     Hotels  Mableton      US  45.421611  12.376187   \n",
       "3  Riviera San Nicol 11/a     Hotels  Mableton      US  45.421611  12.376187   \n",
       "4  Riviera San Nicol 11/a     Hotels  Mableton      US  45.421611  12.376187   \n",
       "\n",
       "                 name postalCode province          reviews.date  \\\n",
       "0  Hotel Russo Palace      30126       GA  2013-09-22T00:00:00Z   \n",
       "1  Hotel Russo Palace      30126       GA  2015-04-03T00:00:00Z   \n",
       "2  Hotel Russo Palace      30126       GA  2014-05-13T00:00:00Z   \n",
       "3  Hotel Russo Palace      30126       GA  2013-10-27T00:00:00Z   \n",
       "4  Hotel Russo Palace      30126       GA  2015-03-05T00:00:00Z   \n",
       "\n",
       "      reviews.dateAdded  reviews.doRecommend  reviews.id  reviews.rating  \\\n",
       "0  2016-10-24T00:00:25Z                  NaN         NaN             4.0   \n",
       "1  2016-10-24T00:00:25Z                  NaN         NaN             5.0   \n",
       "2  2016-10-24T00:00:25Z                  NaN         NaN             5.0   \n",
       "3  2016-10-24T00:00:25Z                  NaN         NaN             5.0   \n",
       "4  2016-10-24T00:00:25Z                  NaN         NaN             5.0   \n",
       "\n",
       "                                        reviews.text  \\\n",
       "0  Pleasant 10 min walk along the sea front to th...   \n",
       "1  Really lovely hotel. Stayed on the very top fl...   \n",
       "2  Ett mycket bra hotell. Det som drog ner betyge...   \n",
       "3  We stayed here for four nights in October. The...   \n",
       "4  We stayed here for four nights in October. The...   \n",
       "\n",
       "                        reviews.title reviews.userCity reviews.username  \\\n",
       "0  Good location away from the crouds              NaN      Russ (kent)   \n",
       "1      Great hotel with Jacuzzi bath!              NaN       A Traveler   \n",
       "2                         Lugnt l��ge              NaN             Maud   \n",
       "3          Good location on the Lido.              NaN            Julie   \n",
       "4              ������ ���������������              NaN         sungchul   \n",
       "\n",
       "  reviews.userProvince  \n",
       "0                  NaN  \n",
       "1                  NaN  \n",
       "2                  NaN  \n",
       "3                  NaN  \n",
       "4                  NaN  "
      ]
     },
     "execution_count": 5,
     "metadata": {},
     "output_type": "execute_result"
    }
   ],
   "source": [
    "data.head()"
   ]
  },
  {
   "cell_type": "code",
   "execution_count": 6,
   "metadata": {
    "collapsed": false
   },
   "outputs": [
    {
     "data": {
      "text/plain": [
       "Series([], Name: reviews.doRecommend, dtype: int64)"
      ]
     },
     "execution_count": 6,
     "metadata": {},
     "output_type": "execute_result"
    }
   ],
   "source": [
    "data['reviews.doRecommend'].value_counts()"
   ]
  },
  {
   "cell_type": "code",
   "execution_count": 7,
   "metadata": {
    "collapsed": false
   },
   "outputs": [],
   "source": [
    "ratings = data['reviews.rating'].value_counts(sort=False).sort_index(ascending=False)"
   ]
  },
  {
   "cell_type": "code",
   "execution_count": 8,
   "metadata": {
    "collapsed": false,
    "scrolled": false
   },
   "outputs": [
    {
     "data": {
      "text/plain": [
       "<matplotlib.text.Text at 0x11f91ea90>"
      ]
     },
     "execution_count": 8,
     "metadata": {},
     "output_type": "execute_result"
    },
    {
     "data": {
      "image/png": "[encoded data removed]",
      "text/plain": [
       "<matplotlib.figure.Figure at 0x123090860>"
      ]
     },
     "metadata": {},
     "output_type": "display_data"
    }
   ],
   "source": [
    "ratings.plot(kind='bar', title='Ratings distribution')\n",
    "plt.xlabel('Rating')\n",
    "plt.ylabel('Number of Reviews')"
   ]
  },
  {
   "cell_type": "markdown",
   "metadata": {
    "collapsed": true
   },
   "source": [
    "## Data cleaning\n",
    "We will train a network to predict ratings, $ \\hat{y} $, and evaluate the model on a test set. When we have trained a model that performs well in the prediction task, then we will extract activations from the final layer and perform PCA on these and use this as our latent factor embedding space.\n",
    "\n",
    "### Remove dimensions that we will not use\n",
    "- `reviews.text` + `reviews.title` comprise our input data, $ x $\n",
    "- `reviews.rating` comprises the ground truth, $ y $."
   ]
  },
  {
   "cell_type": "code",
   "execution_count": 9,
   "metadata": {
    "collapsed": false
   },
   "outputs": [],
   "source": [
    "cleaned = data[['reviews.title', 'reviews.text', 'reviews.rating']].copy()"
   ]
  },
  {
   "cell_type": "code",
   "execution_count": 10,
   "metadata": {
    "collapsed": false
   },
   "outputs": [
    {
     "data": {
      "text/plain": [
       "(35912, 3)"
      ]
     },
     "execution_count": 10,
     "metadata": {},
     "output_type": "execute_result"
    }
   ],
   "source": [
    "cleaned.shape"
   ]
  },
  {
   "cell_type": "code",
   "execution_count": 11,
   "metadata": {
    "collapsed": false
   },
   "outputs": [
    {
     "data": {
      "text/html": [
       "<div>\n",
       "<style>\n",
       "    .dataframe thead tr:only-child th {\n",
       "        text-align: right;\n",
       "    }\n",
       "\n",
       "    .dataframe thead th {\n",
       "        text-align: left;\n",
       "    }\n",
       "\n",
       "    .dataframe tbody tr th {\n",
       "        vertical-align: top;\n",
       "    }\n",
       "</style>\n",
       "<table border=\"1\" class=\"dataframe\">\n",
       "  <thead>\n",
       "    <tr style=\"text-align: right;\">\n",
       "      <th></th>\n",
       "      <th>reviews.title</th>\n",
       "      <th>reviews.text</th>\n",
       "      <th>reviews.rating</th>\n",
       "    </tr>\n",
       "  </thead>\n",
       "  <tbody>\n",
       "    <tr>\n",
       "      <th>0</th>\n",
       "      <td>Good location away from the crouds</td>\n",
       "      <td>Pleasant 10 min walk along the sea front to th...</td>\n",
       "      <td>4.0</td>\n",
       "    </tr>\n",
       "    <tr>\n",
       "      <th>1</th>\n",
       "      <td>Great hotel with Jacuzzi bath!</td>\n",
       "      <td>Really lovely hotel. Stayed on the very top fl...</td>\n",
       "      <td>5.0</td>\n",
       "    </tr>\n",
       "    <tr>\n",
       "      <th>2</th>\n",
       "      <td>Lugnt l��ge</td>\n",
       "      <td>Ett mycket bra hotell. Det som drog ner betyge...</td>\n",
       "      <td>5.0</td>\n",
       "    </tr>\n",
       "    <tr>\n",
       "      <th>3</th>\n",
       "      <td>Good location on the Lido.</td>\n",
       "      <td>We stayed here for four nights in October. The...</td>\n",
       "      <td>5.0</td>\n",
       "    </tr>\n",
       "    <tr>\n",
       "      <th>4</th>\n",
       "      <td>������ ���������������</td>\n",
       "      <td>We stayed here for four nights in October. The...</td>\n",
       "      <td>5.0</td>\n",
       "    </tr>\n",
       "    <tr>\n",
       "      <th>5</th>\n",
       "      <td>Very nice hotel</td>\n",
       "      <td>We loved staying on the island of Lido! You ne...</td>\n",
       "      <td>5.0</td>\n",
       "    </tr>\n",
       "    <tr>\n",
       "      <th>6</th>\n",
       "      <td>Lovely view out onto the lagoon. Excellent view.</td>\n",
       "      <td>Lovely view out onto the lagoon. Excellent vie...</td>\n",
       "      <td>4.0</td>\n",
       "    </tr>\n",
       "    <tr>\n",
       "      <th>7</th>\n",
       "      <td>Lovely view out onto the lagoon. Excellent view.</td>\n",
       "      <td>ottimo soggiorno e ottima sistemazione nei gio...</td>\n",
       "      <td>4.0</td>\n",
       "    </tr>\n",
       "    <tr>\n",
       "      <th>8</th>\n",
       "      <td>G��nstige Lage</td>\n",
       "      <td>Gnstiger Ausgangspunkt fr Venedig Besuche. Ruh...</td>\n",
       "      <td>3.0</td>\n",
       "    </tr>\n",
       "    <tr>\n",
       "      <th>9</th>\n",
       "      <td>Ro og hygge</td>\n",
       "      <td>Lidoen er perfekt til et par dages ro og afsla...</td>\n",
       "      <td>4.0</td>\n",
       "    </tr>\n",
       "    <tr>\n",
       "      <th>10</th>\n",
       "      <td>Tr��s bon h��tel calme et agr��able.</td>\n",
       "      <td>Accueil chaleureux, en franais Changement du l...</td>\n",
       "      <td>4.0</td>\n",
       "    </tr>\n",
       "    <tr>\n",
       "      <th>11</th>\n",
       "      <td>It was ok hotel is nice from in and out but room</td>\n",
       "      <td>It was ok hotel is nice from in and out but ro...</td>\n",
       "      <td>3.0</td>\n",
       "    </tr>\n",
       "    <tr>\n",
       "      <th>12</th>\n",
       "      <td>Sehr angenehmes Hotel !</td>\n",
       "      <td>Klasse Frhstck, freundliches und aufmerksames ...</td>\n",
       "      <td>4.0</td>\n",
       "    </tr>\n",
       "    <tr>\n",
       "      <th>13</th>\n",
       "      <td>Tip top</td>\n",
       "      <td>Bardzo sympatyczna obsuga, klimat hotelu. wiet...</td>\n",
       "      <td>4.0</td>\n",
       "    </tr>\n",
       "    <tr>\n",
       "      <th>14</th>\n",
       "      <td>Lugnet p�� Lido</td>\n",
       "      <td>Bra o lugnt lge. Stor terrass. Nra till den hr...</td>\n",
       "      <td>4.0</td>\n",
       "    </tr>\n",
       "    <tr>\n",
       "      <th>15</th>\n",
       "      <td>Lugnet p�� Lido</td>\n",
       "      <td>The hotel staff was very friendly and helpful....</td>\n",
       "      <td>4.0</td>\n",
       "    </tr>\n",
       "    <tr>\n",
       "      <th>16</th>\n",
       "      <td>Nice hotel with very friendly and helpful staff</td>\n",
       "      <td>Nice hotel , with very friendly staff and help...</td>\n",
       "      <td>4.0</td>\n",
       "    </tr>\n",
       "    <tr>\n",
       "      <th>17</th>\n",
       "      <td>Guter Ausgangspunkt f��r Ausfl��ge</td>\n",
       "      <td>Wir hatten leider Pech mit unserem Zimmer,war ...</td>\n",
       "      <td>4.0</td>\n",
       "    </tr>\n",
       "    <tr>\n",
       "      <th>18</th>\n",
       "      <td>���������������.</td>\n",
       "      <td>. .</td>\n",
       "      <td>4.0</td>\n",
       "    </tr>\n",
       "    <tr>\n",
       "      <th>19</th>\n",
       "      <td>Hotellihuone oli pettymys</td>\n",
       "      <td>Hotellihuone oli ullakolla, jossa ei pystynyt ...</td>\n",
       "      <td>1.0</td>\n",
       "    </tr>\n",
       "    <tr>\n",
       "      <th>20</th>\n",
       "      <td>Dungeons, Drain Flies and Centipedes</td>\n",
       "      <td>DON'T stay here unless you're less than 2 feet...</td>\n",
       "      <td>1.0</td>\n",
       "    </tr>\n",
       "    <tr>\n",
       "      <th>21</th>\n",
       "      <td>Excellent hotel with good access to Venice</td>\n",
       "      <td>We had absolutely no problems whatsoever with ...</td>\n",
       "      <td>5.0</td>\n",
       "    </tr>\n",
       "    <tr>\n",
       "      <th>22</th>\n",
       "      <td>Sch��ne Lage, ruhige Gegend</td>\n",
       "      <td>Wir buchten das Hotel fr 4 Nchte in der Woche ...</td>\n",
       "      <td>4.0</td>\n",
       "    </tr>\n",
       "    <tr>\n",
       "      <th>23</th>\n",
       "      <td>Lovely stay - second time staying at this hotel.</td>\n",
       "      <td>Lovely hotel, 10 min walk to the water bus sto...</td>\n",
       "      <td>5.0</td>\n",
       "    </tr>\n",
       "    <tr>\n",
       "      <th>24</th>\n",
       "      <td>Tolles Hotel f��r einen St��dtetrip nach Venedig</td>\n",
       "      <td>Das Hotel liegt auf der Insel Lido neben Vened...</td>\n",
       "      <td>5.0</td>\n",
       "    </tr>\n",
       "    <tr>\n",
       "      <th>25</th>\n",
       "      <td>A good Hotel on the Lido - Quiet location.</td>\n",
       "      <td>Located on the Lido I would recommend this hot...</td>\n",
       "      <td>5.0</td>\n",
       "    </tr>\n",
       "    <tr>\n",
       "      <th>26</th>\n",
       "      <td>A good Hotel on the Lido - Quiet location.</td>\n",
       "      <td>Mysigt med fina rum, bra frukost och nra bde t...</td>\n",
       "      <td>4.0</td>\n",
       "    </tr>\n",
       "    <tr>\n",
       "      <th>27</th>\n",
       "      <td>Sehr sch��nes Hotel auf dem Lido.</td>\n",
       "      <td>Hotel ist sehr gut , wir waren zum zweiten mal...</td>\n",
       "      <td>4.0</td>\n",
       "    </tr>\n",
       "    <tr>\n",
       "      <th>28</th>\n",
       "      <td>Sehr sch��nes Hotel auf dem Lido.</td>\n",
       "      <td>Wir hatten ein Zimmer mit Balkon und Blick auf...</td>\n",
       "      <td>4.0</td>\n",
       "    </tr>\n",
       "    <tr>\n",
       "      <th>29</th>\n",
       "      <td>I would come back</td>\n",
       "      <td>Great stay...close to ferry.food not so good n...</td>\n",
       "      <td>4.0</td>\n",
       "    </tr>\n",
       "    <tr>\n",
       "      <th>...</th>\n",
       "      <td>...</td>\n",
       "      <td>...</td>\n",
       "      <td>...</td>\n",
       "    </tr>\n",
       "    <tr>\n",
       "      <th>35882</th>\n",
       "      <td>Best place to stay in Gatlinburg!</td>\n",
       "      <td>We stayed in Smoky Mountain Romance with our 3...</td>\n",
       "      <td>5.0</td>\n",
       "    </tr>\n",
       "    <tr>\n",
       "      <th>35883</th>\n",
       "      <td>Fontana cabin</td>\n",
       "      <td>Very nice cabin for 2. King bed, loft with poo...</td>\n",
       "      <td>5.0</td>\n",
       "    </tr>\n",
       "    <tr>\n",
       "      <th>35884</th>\n",
       "      <td>Fontana cabin</td>\n",
       "      <td>Our cabin was surrounded by trees with a view ...</td>\n",
       "      <td>5.0</td>\n",
       "    </tr>\n",
       "    <tr>\n",
       "      <th>35885</th>\n",
       "      <td>Fontana cabin</td>\n",
       "      <td>Beautiful luxury rental cabin development near...</td>\n",
       "      <td>5.0</td>\n",
       "    </tr>\n",
       "    <tr>\n",
       "      <th>35886</th>\n",
       "      <td>Another great visit this year....planning to c...</td>\n",
       "      <td>We have been using Elk Springs Resort for seve...</td>\n",
       "      <td>5.0</td>\n",
       "    </tr>\n",
       "    <tr>\n",
       "      <th>35887</th>\n",
       "      <td>Another great visit this year....planning to c...</td>\n",
       "      <td>buckwild cabin is very nice. only bad thing i ...</td>\n",
       "      <td>5.0</td>\n",
       "    </tr>\n",
       "    <tr>\n",
       "      <th>35888</th>\n",
       "      <td>Great location, Very Clean Cabin</td>\n",
       "      <td>We really enjoyed our stay. The accommodations...</td>\n",
       "      <td>4.0</td>\n",
       "    </tr>\n",
       "    <tr>\n",
       "      <th>35889</th>\n",
       "      <td>Great Views and Location</td>\n",
       "      <td>The views of the mountains was spectacular and...</td>\n",
       "      <td>5.0</td>\n",
       "    </tr>\n",
       "    <tr>\n",
       "      <th>35890</th>\n",
       "      <td>Don't book with any other company!</td>\n",
       "      <td>This is my first review on Trip Advisor simply...</td>\n",
       "      <td>5.0</td>\n",
       "    </tr>\n",
       "    <tr>\n",
       "      <th>35891</th>\n",
       "      <td>Gorgeous cabin with amazing view</td>\n",
       "      <td>I went on a girls trip and my friend booked th...</td>\n",
       "      <td>5.0</td>\n",
       "    </tr>\n",
       "    <tr>\n",
       "      <th>35892</th>\n",
       "      <td>GORGEOUS CABINS</td>\n",
       "      <td>We had a great time loved the cabins! We staye...</td>\n",
       "      <td>5.0</td>\n",
       "    </tr>\n",
       "    <tr>\n",
       "      <th>35893</th>\n",
       "      <td>Spectacular</td>\n",
       "      <td>We stayed at the Mount Laurel cabin and it was...</td>\n",
       "      <td>5.0</td>\n",
       "    </tr>\n",
       "    <tr>\n",
       "      <th>35894</th>\n",
       "      <td>Spectacular</td>\n",
       "      <td>Best Gatlinburg Cabins I cannot say enough pos...</td>\n",
       "      <td>5.0</td>\n",
       "    </tr>\n",
       "    <tr>\n",
       "      <th>35895</th>\n",
       "      <td>Spectacular</td>\n",
       "      <td>We recently stayed at a cabin that is managed ...</td>\n",
       "      <td>5.0</td>\n",
       "    </tr>\n",
       "    <tr>\n",
       "      <th>35896</th>\n",
       "      <td>Spectacular</td>\n",
       "      <td>My wife and I had the pleasure of staying at U...</td>\n",
       "      <td>5.0</td>\n",
       "    </tr>\n",
       "    <tr>\n",
       "      <th>35897</th>\n",
       "      <td>Loved it! Incredible views!!!</td>\n",
       "      <td>Our family of 6 stayed for 6 nights and had a ...</td>\n",
       "      <td>5.0</td>\n",
       "    </tr>\n",
       "    <tr>\n",
       "      <th>35898</th>\n",
       "      <td>Loved it! Incredible views!!!</td>\n",
       "      <td>southern comfort cabin is great. it's on the e...</td>\n",
       "      <td>5.0</td>\n",
       "    </tr>\n",
       "    <tr>\n",
       "      <th>35899</th>\n",
       "      <td>Outstanding and Amazing view</td>\n",
       "      <td>We went exactly at the fall ...so had wonderfu...</td>\n",
       "      <td>5.0</td>\n",
       "    </tr>\n",
       "    <tr>\n",
       "      <th>35900</th>\n",
       "      <td>Outstanding and Amazing view</td>\n",
       "      <td>we took our first 'adult family vacation' this...</td>\n",
       "      <td>5.0</td>\n",
       "    </tr>\n",
       "    <tr>\n",
       "      <th>35901</th>\n",
       "      <td>Breathtaking Views Cabin</td>\n",
       "      <td>We had a wonderful visit to Breathtaking Views...</td>\n",
       "      <td>5.0</td>\n",
       "    </tr>\n",
       "    <tr>\n",
       "      <th>35902</th>\n",
       "      <td>Driveway is out of control dangerous</td>\n",
       "      <td>We are extremely disappointed in this company....</td>\n",
       "      <td>1.0</td>\n",
       "    </tr>\n",
       "    <tr>\n",
       "      <th>35903</th>\n",
       "      <td>Perfect Smoky Mountain Getaway</td>\n",
       "      <td>Our family of 14 stayed in a 5 bedroom cabin, ...</td>\n",
       "      <td>5.0</td>\n",
       "    </tr>\n",
       "    <tr>\n",
       "      <th>35904</th>\n",
       "      <td>Perfect Smoky Mountain Getaway</td>\n",
       "      <td>We stayed at Elk Springs Resort for the week o...</td>\n",
       "      <td>5.0</td>\n",
       "    </tr>\n",
       "    <tr>\n",
       "      <th>35905</th>\n",
       "      <td>We Loved It!</td>\n",
       "      <td>We truly enjoyed staying at the Elk Springs re...</td>\n",
       "      <td>5.0</td>\n",
       "    </tr>\n",
       "    <tr>\n",
       "      <th>35906</th>\n",
       "      <td>Amazing time (both times!!)</td>\n",
       "      <td>We were here for a 2nd time the last weekend o...</td>\n",
       "      <td>5.0</td>\n",
       "    </tr>\n",
       "    <tr>\n",
       "      <th>35907</th>\n",
       "      <td>Amazing time (both times!!)</td>\n",
       "      <td>Best of the Best!!!! My family and I stayed in...</td>\n",
       "      <td>5.0</td>\n",
       "    </tr>\n",
       "    <tr>\n",
       "      <th>35908</th>\n",
       "      <td>Amazing time (both times!!)</td>\n",
       "      <td>Amazing Vacation in Beautiful Cabin We stayed ...</td>\n",
       "      <td>5.0</td>\n",
       "    </tr>\n",
       "    <tr>\n",
       "      <th>35909</th>\n",
       "      <td>Amazing time (both times!!)</td>\n",
       "      <td>My husband and I stayed at Tree Tops which is ...</td>\n",
       "      <td>5.0</td>\n",
       "    </tr>\n",
       "    <tr>\n",
       "      <th>35910</th>\n",
       "      <td>NaN</td>\n",
       "      <td>to share your opinion of this businesswith YP ...</td>\n",
       "      <td>0.0</td>\n",
       "    </tr>\n",
       "    <tr>\n",
       "      <th>35911</th>\n",
       "      <td>NaN</td>\n",
       "      <td>xxxxxxxxxxxxxxxxxxxxxxxxxxxxxxxxxxxxxxxxxx</td>\n",
       "      <td>0.0</td>\n",
       "    </tr>\n",
       "  </tbody>\n",
       "</table>\n",
       "<p>35912 rows × 3 columns</p>\n",
       "</div>"
      ],
      "text/plain": [
       "                                           reviews.title  \\\n",
       "0                     Good location away from the crouds   \n",
       "1                         Great hotel with Jacuzzi bath!   \n",
       "2                                            Lugnt l��ge   \n",
       "3                             Good location on the Lido.   \n",
       "4                                 ������ ���������������   \n",
       "5                                        Very nice hotel   \n",
       "6       Lovely view out onto the lagoon. Excellent view.   \n",
       "7       Lovely view out onto the lagoon. Excellent view.   \n",
       "8                                         G��nstige Lage   \n",
       "9                                            Ro og hygge   \n",
       "10                  Tr��s bon h��tel calme et agr��able.   \n",
       "11      It was ok hotel is nice from in and out but room   \n",
       "12                               Sehr angenehmes Hotel !   \n",
       "13                                               Tip top   \n",
       "14                                       Lugnet p�� Lido   \n",
       "15                                       Lugnet p�� Lido   \n",
       "16       Nice hotel with very friendly and helpful staff   \n",
       "17                    Guter Ausgangspunkt f��r Ausfl��ge   \n",
       "18                                      ���������������.   \n",
       "19                             Hotellihuone oli pettymys   \n",
       "20                  Dungeons, Drain Flies and Centipedes   \n",
       "21            Excellent hotel with good access to Venice   \n",
       "22                           Sch��ne Lage, ruhige Gegend   \n",
       "23      Lovely stay - second time staying at this hotel.   \n",
       "24      Tolles Hotel f��r einen St��dtetrip nach Venedig   \n",
       "25            A good Hotel on the Lido - Quiet location.   \n",
       "26            A good Hotel on the Lido - Quiet location.   \n",
       "27                     Sehr sch��nes Hotel auf dem Lido.   \n",
       "28                     Sehr sch��nes Hotel auf dem Lido.   \n",
       "29                                     I would come back   \n",
       "...                                                  ...   \n",
       "35882                  Best place to stay in Gatlinburg!   \n",
       "35883                                      Fontana cabin   \n",
       "35884                                      Fontana cabin   \n",
       "35885                                      Fontana cabin   \n",
       "35886  Another great visit this year....planning to c...   \n",
       "35887  Another great visit this year....planning to c...   \n",
       "35888                   Great location, Very Clean Cabin   \n",
       "35889                           Great Views and Location   \n",
       "35890                 Don't book with any other company!   \n",
       "35891                   Gorgeous cabin with amazing view   \n",
       "35892                                    GORGEOUS CABINS   \n",
       "35893                                        Spectacular   \n",
       "35894                                        Spectacular   \n",
       "35895                                        Spectacular   \n",
       "35896                                        Spectacular   \n",
       "35897                      Loved it! Incredible views!!!   \n",
       "35898                      Loved it! Incredible views!!!   \n",
       "35899                       Outstanding and Amazing view   \n",
       "35900                       Outstanding and Amazing view   \n",
       "35901                           Breathtaking Views Cabin   \n",
       "35902               Driveway is out of control dangerous   \n",
       "35903                     Perfect Smoky Mountain Getaway   \n",
       "35904                     Perfect Smoky Mountain Getaway   \n",
       "35905                                       We Loved It!   \n",
       "35906                        Amazing time (both times!!)   \n",
       "35907                        Amazing time (both times!!)   \n",
       "35908                        Amazing time (both times!!)   \n",
       "35909                        Amazing time (both times!!)   \n",
       "35910                                                NaN   \n",
       "35911                                                NaN   \n",
       "\n",
       "                                            reviews.text  reviews.rating  \n",
       "0      Pleasant 10 min walk along the sea front to th...             4.0  \n",
       "1      Really lovely hotel. Stayed on the very top fl...             5.0  \n",
       "2      Ett mycket bra hotell. Det som drog ner betyge...             5.0  \n",
       "3      We stayed here for four nights in October. The...             5.0  \n",
       "4      We stayed here for four nights in October. The...             5.0  \n",
       "5      We loved staying on the island of Lido! You ne...             5.0  \n",
       "6      Lovely view out onto the lagoon. Excellent vie...             4.0  \n",
       "7      ottimo soggiorno e ottima sistemazione nei gio...             4.0  \n",
       "8      Gnstiger Ausgangspunkt fr Venedig Besuche. Ruh...             3.0  \n",
       "9      Lidoen er perfekt til et par dages ro og afsla...             4.0  \n",
       "10     Accueil chaleureux, en franais Changement du l...             4.0  \n",
       "11     It was ok hotel is nice from in and out but ro...             3.0  \n",
       "12     Klasse Frhstck, freundliches und aufmerksames ...             4.0  \n",
       "13     Bardzo sympatyczna obsuga, klimat hotelu. wiet...             4.0  \n",
       "14     Bra o lugnt lge. Stor terrass. Nra till den hr...             4.0  \n",
       "15     The hotel staff was very friendly and helpful....             4.0  \n",
       "16     Nice hotel , with very friendly staff and help...             4.0  \n",
       "17     Wir hatten leider Pech mit unserem Zimmer,war ...             4.0  \n",
       "18                                                   . .             4.0  \n",
       "19     Hotellihuone oli ullakolla, jossa ei pystynyt ...             1.0  \n",
       "20     DON'T stay here unless you're less than 2 feet...             1.0  \n",
       "21     We had absolutely no problems whatsoever with ...             5.0  \n",
       "22     Wir buchten das Hotel fr 4 Nchte in der Woche ...             4.0  \n",
       "23     Lovely hotel, 10 min walk to the water bus sto...             5.0  \n",
       "24     Das Hotel liegt auf der Insel Lido neben Vened...             5.0  \n",
       "25     Located on the Lido I would recommend this hot...             5.0  \n",
       "26     Mysigt med fina rum, bra frukost och nra bde t...             4.0  \n",
       "27     Hotel ist sehr gut , wir waren zum zweiten mal...             4.0  \n",
       "28     Wir hatten ein Zimmer mit Balkon und Blick auf...             4.0  \n",
       "29     Great stay...close to ferry.food not so good n...             4.0  \n",
       "...                                                  ...             ...  \n",
       "35882  We stayed in Smoky Mountain Romance with our 3...             5.0  \n",
       "35883  Very nice cabin for 2. King bed, loft with poo...             5.0  \n",
       "35884  Our cabin was surrounded by trees with a view ...             5.0  \n",
       "35885  Beautiful luxury rental cabin development near...             5.0  \n",
       "35886  We have been using Elk Springs Resort for seve...             5.0  \n",
       "35887  buckwild cabin is very nice. only bad thing i ...             5.0  \n",
       "35888  We really enjoyed our stay. The accommodations...             4.0  \n",
       "35889  The views of the mountains was spectacular and...             5.0  \n",
       "35890  This is my first review on Trip Advisor simply...             5.0  \n",
       "35891  I went on a girls trip and my friend booked th...             5.0  \n",
       "35892  We had a great time loved the cabins! We staye...             5.0  \n",
       "35893  We stayed at the Mount Laurel cabin and it was...             5.0  \n",
       "35894  Best Gatlinburg Cabins I cannot say enough pos...             5.0  \n",
       "35895  We recently stayed at a cabin that is managed ...             5.0  \n",
       "35896  My wife and I had the pleasure of staying at U...             5.0  \n",
       "35897  Our family of 6 stayed for 6 nights and had a ...             5.0  \n",
       "35898  southern comfort cabin is great. it's on the e...             5.0  \n",
       "35899  We went exactly at the fall ...so had wonderfu...             5.0  \n",
       "35900  we took our first 'adult family vacation' this...             5.0  \n",
       "35901  We had a wonderful visit to Breathtaking Views...             5.0  \n",
       "35902  We are extremely disappointed in this company....             1.0  \n",
       "35903  Our family of 14 stayed in a 5 bedroom cabin, ...             5.0  \n",
       "35904  We stayed at Elk Springs Resort for the week o...             5.0  \n",
       "35905  We truly enjoyed staying at the Elk Springs re...             5.0  \n",
       "35906  We were here for a 2nd time the last weekend o...             5.0  \n",
       "35907  Best of the Best!!!! My family and I stayed in...             5.0  \n",
       "35908  Amazing Vacation in Beautiful Cabin We stayed ...             5.0  \n",
       "35909  My husband and I stayed at Tree Tops which is ...             5.0  \n",
       "35910  to share your opinion of this businesswith YP ...             0.0  \n",
       "35911         xxxxxxxxxxxxxxxxxxxxxxxxxxxxxxxxxxxxxxxxxx             0.0  \n",
       "\n",
       "[35912 rows x 3 columns]"
      ]
     },
     "execution_count": 11,
     "metadata": {},
     "output_type": "execute_result"
    }
   ],
   "source": [
    "cleaned"
   ]
  },
  {
   "cell_type": "markdown",
   "metadata": {},
   "source": [
    "### Drop any duplicate reviews\n",
    "- Considering the `reviews.text` attribute, as we note some exact duplicate review texts above\n",
    "- Considering the `reviews.title`, since we note reviews with same title above.\n",
    "    - Some of these may be from different users, however many examples are next to each other in index, so possibly multiple entries from same user? Seems safer to drop them than to attempt a merge"
   ]
  },
  {
   "cell_type": "code",
   "execution_count": 12,
   "metadata": {
    "collapsed": false,
    "scrolled": true
   },
   "outputs": [],
   "source": [
    "cleaned.drop_duplicates(inplace=True, subset='reviews.text', keep=False)\n",
    "cleaned.drop_duplicates(inplace=True, subset='reviews.title', keep=False)"
   ]
  },
  {
   "cell_type": "code",
   "execution_count": 13,
   "metadata": {
    "collapsed": false
   },
   "outputs": [
    {
     "data": {
      "text/plain": [
       "(16794, 3)"
      ]
     },
     "execution_count": 13,
     "metadata": {},
     "output_type": "execute_result"
    }
   ],
   "source": [
    "cleaned.shape"
   ]
  },
  {
   "cell_type": "code",
   "execution_count": 14,
   "metadata": {
    "collapsed": false
   },
   "outputs": [
    {
     "data": {
      "text/html": [
       "<div>\n",
       "<style>\n",
       "    .dataframe thead tr:only-child th {\n",
       "        text-align: right;\n",
       "    }\n",
       "\n",
       "    .dataframe thead th {\n",
       "        text-align: left;\n",
       "    }\n",
       "\n",
       "    .dataframe tbody tr th {\n",
       "        vertical-align: top;\n",
       "    }\n",
       "</style>\n",
       "<table border=\"1\" class=\"dataframe\">\n",
       "  <thead>\n",
       "    <tr style=\"text-align: right;\">\n",
       "      <th></th>\n",
       "      <th>reviews.title</th>\n",
       "      <th>reviews.text</th>\n",
       "      <th>reviews.rating</th>\n",
       "    </tr>\n",
       "  </thead>\n",
       "  <tbody>\n",
       "    <tr>\n",
       "      <th>0</th>\n",
       "      <td>Good location away from the crouds</td>\n",
       "      <td>Pleasant 10 min walk along the sea front to th...</td>\n",
       "      <td>4.0</td>\n",
       "    </tr>\n",
       "    <tr>\n",
       "      <th>1</th>\n",
       "      <td>Great hotel with Jacuzzi bath!</td>\n",
       "      <td>Really lovely hotel. Stayed on the very top fl...</td>\n",
       "      <td>5.0</td>\n",
       "    </tr>\n",
       "    <tr>\n",
       "      <th>2</th>\n",
       "      <td>Lugnt l��ge</td>\n",
       "      <td>Ett mycket bra hotell. Det som drog ner betyge...</td>\n",
       "      <td>5.0</td>\n",
       "    </tr>\n",
       "    <tr>\n",
       "      <th>8</th>\n",
       "      <td>G��nstige Lage</td>\n",
       "      <td>Gnstiger Ausgangspunkt fr Venedig Besuche. Ruh...</td>\n",
       "      <td>3.0</td>\n",
       "    </tr>\n",
       "    <tr>\n",
       "      <th>9</th>\n",
       "      <td>Ro og hygge</td>\n",
       "      <td>Lidoen er perfekt til et par dages ro og afsla...</td>\n",
       "      <td>4.0</td>\n",
       "    </tr>\n",
       "    <tr>\n",
       "      <th>10</th>\n",
       "      <td>Tr��s bon h��tel calme et agr��able.</td>\n",
       "      <td>Accueil chaleureux, en franais Changement du l...</td>\n",
       "      <td>4.0</td>\n",
       "    </tr>\n",
       "    <tr>\n",
       "      <th>11</th>\n",
       "      <td>It was ok hotel is nice from in and out but room</td>\n",
       "      <td>It was ok hotel is nice from in and out but ro...</td>\n",
       "      <td>3.0</td>\n",
       "    </tr>\n",
       "    <tr>\n",
       "      <th>12</th>\n",
       "      <td>Sehr angenehmes Hotel !</td>\n",
       "      <td>Klasse Frhstck, freundliches und aufmerksames ...</td>\n",
       "      <td>4.0</td>\n",
       "    </tr>\n",
       "    <tr>\n",
       "      <th>13</th>\n",
       "      <td>Tip top</td>\n",
       "      <td>Bardzo sympatyczna obsuga, klimat hotelu. wiet...</td>\n",
       "      <td>4.0</td>\n",
       "    </tr>\n",
       "    <tr>\n",
       "      <th>16</th>\n",
       "      <td>Nice hotel with very friendly and helpful staff</td>\n",
       "      <td>Nice hotel , with very friendly staff and help...</td>\n",
       "      <td>4.0</td>\n",
       "    </tr>\n",
       "    <tr>\n",
       "      <th>17</th>\n",
       "      <td>Guter Ausgangspunkt f��r Ausfl��ge</td>\n",
       "      <td>Wir hatten leider Pech mit unserem Zimmer,war ...</td>\n",
       "      <td>4.0</td>\n",
       "    </tr>\n",
       "    <tr>\n",
       "      <th>19</th>\n",
       "      <td>Hotellihuone oli pettymys</td>\n",
       "      <td>Hotellihuone oli ullakolla, jossa ei pystynyt ...</td>\n",
       "      <td>1.0</td>\n",
       "    </tr>\n",
       "    <tr>\n",
       "      <th>20</th>\n",
       "      <td>Dungeons, Drain Flies and Centipedes</td>\n",
       "      <td>DON'T stay here unless you're less than 2 feet...</td>\n",
       "      <td>1.0</td>\n",
       "    </tr>\n",
       "    <tr>\n",
       "      <th>21</th>\n",
       "      <td>Excellent hotel with good access to Venice</td>\n",
       "      <td>We had absolutely no problems whatsoever with ...</td>\n",
       "      <td>5.0</td>\n",
       "    </tr>\n",
       "    <tr>\n",
       "      <th>22</th>\n",
       "      <td>Sch��ne Lage, ruhige Gegend</td>\n",
       "      <td>Wir buchten das Hotel fr 4 Nchte in der Woche ...</td>\n",
       "      <td>4.0</td>\n",
       "    </tr>\n",
       "    <tr>\n",
       "      <th>23</th>\n",
       "      <td>Lovely stay - second time staying at this hotel.</td>\n",
       "      <td>Lovely hotel, 10 min walk to the water bus sto...</td>\n",
       "      <td>5.0</td>\n",
       "    </tr>\n",
       "    <tr>\n",
       "      <th>24</th>\n",
       "      <td>Tolles Hotel f��r einen St��dtetrip nach Venedig</td>\n",
       "      <td>Das Hotel liegt auf der Insel Lido neben Vened...</td>\n",
       "      <td>5.0</td>\n",
       "    </tr>\n",
       "    <tr>\n",
       "      <th>31</th>\n",
       "      <td>une belle semaine �� Venise</td>\n",
       "      <td>Nous avons pass 4 jours dans cet htel situ 5 m...</td>\n",
       "      <td>4.0</td>\n",
       "    </tr>\n",
       "    <tr>\n",
       "      <th>33</th>\n",
       "      <td>stayed before and after cruise</td>\n",
       "      <td>It was a 10 min+ walk to water bus, would have...</td>\n",
       "      <td>4.0</td>\n",
       "    </tr>\n",
       "    <tr>\n",
       "      <th>35</th>\n",
       "      <td>Calme, bien situ�� et correct</td>\n",
       "      <td>Htel trs bien situ dans un coin calme loin de ...</td>\n",
       "      <td>4.0</td>\n",
       "    </tr>\n",
       "    <tr>\n",
       "      <th>36</th>\n",
       "      <td>Best Front Desk Receptionist EVER!!</td>\n",
       "      <td>VERY FRIENDLY AND HELPFUL WITH DIRECTIONS, KNO...</td>\n",
       "      <td>5.0</td>\n",
       "    </tr>\n",
       "    <tr>\n",
       "      <th>39</th>\n",
       "      <td>Godt hotel p�� Lidoen i Venedig</td>\n",
       "      <td>Havde 7 overnatninger i april 2015 p Hotel Rus...</td>\n",
       "      <td>5.0</td>\n",
       "    </tr>\n",
       "    <tr>\n",
       "      <th>41</th>\n",
       "      <td>Nice Hotel on the quiet part of Lido</td>\n",
       "      <td>Really enjoyed the stay, about a 10min walk to...</td>\n",
       "      <td>5.0</td>\n",
       "    </tr>\n",
       "    <tr>\n",
       "      <th>42</th>\n",
       "      <td>Bra til rabattert pris</td>\n",
       "      <td>Nyrenovert bad hevet opplevelsen.</td>\n",
       "      <td>3.0</td>\n",
       "    </tr>\n",
       "    <tr>\n",
       "      <th>45</th>\n",
       "      <td>Good option, great staff, quiet neighborhood</td>\n",
       "      <td>If you're looking for a hotel where the action...</td>\n",
       "      <td>3.0</td>\n",
       "    </tr>\n",
       "    <tr>\n",
       "      <th>46</th>\n",
       "      <td>Decent Hotel on Lido</td>\n",
       "      <td>Hotel facilities are good and breakfast ample....</td>\n",
       "      <td>4.0</td>\n",
       "    </tr>\n",
       "    <tr>\n",
       "      <th>47</th>\n",
       "      <td>Very pleasant.</td>\n",
       "      <td>Friendly reception very helpful. Hotel has ple...</td>\n",
       "      <td>4.0</td>\n",
       "    </tr>\n",
       "    <tr>\n",
       "      <th>49</th>\n",
       "      <td>Clean hotel with amazing staff</td>\n",
       "      <td>Great hotel, staff where amazing and the locat...</td>\n",
       "      <td>5.0</td>\n",
       "    </tr>\n",
       "    <tr>\n",
       "      <th>50</th>\n",
       "      <td>��������������� ������ ������������!</td>\n",
       "      <td>, , , . , , 1 ! , .</td>\n",
       "      <td>4.0</td>\n",
       "    </tr>\n",
       "    <tr>\n",
       "      <th>54</th>\n",
       "      <td>Good pleasant pick</td>\n",
       "      <td>Nice staff. Nice location. We booked two night...</td>\n",
       "      <td>5.0</td>\n",
       "    </tr>\n",
       "    <tr>\n",
       "      <th>...</th>\n",
       "      <td>...</td>\n",
       "      <td>...</td>\n",
       "      <td>...</td>\n",
       "    </tr>\n",
       "    <tr>\n",
       "      <th>35841</th>\n",
       "      <td>Amazing location and great stay</td>\n",
       "      <td>We rented a 4 bedroom, 3 bathroom unit (A Moun...</td>\n",
       "      <td>5.0</td>\n",
       "    </tr>\n",
       "    <tr>\n",
       "      <th>35844</th>\n",
       "      <td>Poor customer relations</td>\n",
       "      <td>No working refrigerator: / Back in June we had...</td>\n",
       "      <td>2.0</td>\n",
       "    </tr>\n",
       "    <tr>\n",
       "      <th>35845</th>\n",
       "      <td>Couple and Toddler at Deer to My Heart</td>\n",
       "      <td>Everything about our stay was fantastic! We fo...</td>\n",
       "      <td>5.0</td>\n",
       "    </tr>\n",
       "    <tr>\n",
       "      <th>35850</th>\n",
       "      <td>Elk Springs Resort- Urban Cowboy NOT AS ADVERT...</td>\n",
       "      <td>We stayed in Elk Springs Resort's Urban Cowboy...</td>\n",
       "      <td>1.0</td>\n",
       "    </tr>\n",
       "    <tr>\n",
       "      <th>35851</th>\n",
       "      <td>How sweet it is cabin</td>\n",
       "      <td>Excellent views, new, stocked with everything ...</td>\n",
       "      <td>5.0</td>\n",
       "    </tr>\n",
       "    <tr>\n",
       "      <th>35852</th>\n",
       "      <td>Awesome Views</td>\n",
       "      <td>We stayed in a cabin called above the treetops...</td>\n",
       "      <td>5.0</td>\n",
       "    </tr>\n",
       "    <tr>\n",
       "      <th>35853</th>\n",
       "      <td>Caution When Reserving</td>\n",
       "      <td>Very nice people to work with but I would caut...</td>\n",
       "      <td>2.0</td>\n",
       "    </tr>\n",
       "    <tr>\n",
       "      <th>35854</th>\n",
       "      <td>Perfect Cabin Retreat!</td>\n",
       "      <td>My husband and I rented a 1 bedroom cabin whic...</td>\n",
       "      <td>5.0</td>\n",
       "    </tr>\n",
       "    <tr>\n",
       "      <th>35857</th>\n",
       "      <td>BlackJack</td>\n",
       "      <td>Very disappointed for the price we paid. This ...</td>\n",
       "      <td>3.0</td>\n",
       "    </tr>\n",
       "    <tr>\n",
       "      <th>35861</th>\n",
       "      <td>Fun family trip</td>\n",
       "      <td>My husband and I visited with my daughter, her...</td>\n",
       "      <td>4.0</td>\n",
       "    </tr>\n",
       "    <tr>\n",
       "      <th>35862</th>\n",
       "      <td>Fell in Love</td>\n",
       "      <td>We spent five nights at Ridgetop Retreat 50 fo...</td>\n",
       "      <td>5.0</td>\n",
       "    </tr>\n",
       "    <tr>\n",
       "      <th>35863</th>\n",
       "      <td>Great fall stay in the Great Smoky Mountains</td>\n",
       "      <td>We stayed at the Bearfoot Memories cabin. The ...</td>\n",
       "      <td>4.0</td>\n",
       "    </tr>\n",
       "    <tr>\n",
       "      <th>35867</th>\n",
       "      <td>Amazing!!!</td>\n",
       "      <td>This was, by and far, one of the best vacation...</td>\n",
       "      <td>5.0</td>\n",
       "    </tr>\n",
       "    <tr>\n",
       "      <th>35868</th>\n",
       "      <td>Problems that could have easily been fixed</td>\n",
       "      <td>We have stayed at Elk Springs Resort several t...</td>\n",
       "      <td>2.0</td>\n",
       "    </tr>\n",
       "    <tr>\n",
       "      <th>35872</th>\n",
       "      <td>Very nice peaceful cabin</td>\n",
       "      <td>We stayed in the cabin named Beary Cozy. Didn'...</td>\n",
       "      <td>5.0</td>\n",
       "    </tr>\n",
       "    <tr>\n",
       "      <th>35873</th>\n",
       "      <td>Very good cabin</td>\n",
       "      <td>We rented a cabin and was very impressed With ...</td>\n",
       "      <td>4.0</td>\n",
       "    </tr>\n",
       "    <tr>\n",
       "      <th>35874</th>\n",
       "      <td>Five stars!</td>\n",
       "      <td>Family of four. Stayed in Bearfoot Memories ca...</td>\n",
       "      <td>5.0</td>\n",
       "    </tr>\n",
       "    <tr>\n",
       "      <th>35877</th>\n",
       "      <td>Wonderful stay in the mountains</td>\n",
       "      <td>My family and I stayed at the Silver Creek cab...</td>\n",
       "      <td>5.0</td>\n",
       "    </tr>\n",
       "    <tr>\n",
       "      <th>35878</th>\n",
       "      <td>Touch of Class</td>\n",
       "      <td>We stayed 3 nights in theTouch of Class cabin ...</td>\n",
       "      <td>5.0</td>\n",
       "    </tr>\n",
       "    <tr>\n",
       "      <th>35879</th>\n",
       "      <td>We'll be Back!</td>\n",
       "      <td>My husband and I came for the weekend to celeb...</td>\n",
       "      <td>5.0</td>\n",
       "    </tr>\n",
       "    <tr>\n",
       "      <th>35880</th>\n",
       "      <td>Cabin: Eagles Nest</td>\n",
       "      <td>Excellent! Very nice cabins! Felt like home! T...</td>\n",
       "      <td>5.0</td>\n",
       "    </tr>\n",
       "    <tr>\n",
       "      <th>35882</th>\n",
       "      <td>Best place to stay in Gatlinburg!</td>\n",
       "      <td>We stayed in Smoky Mountain Romance with our 3...</td>\n",
       "      <td>5.0</td>\n",
       "    </tr>\n",
       "    <tr>\n",
       "      <th>35888</th>\n",
       "      <td>Great location, Very Clean Cabin</td>\n",
       "      <td>We really enjoyed our stay. The accommodations...</td>\n",
       "      <td>4.0</td>\n",
       "    </tr>\n",
       "    <tr>\n",
       "      <th>35889</th>\n",
       "      <td>Great Views and Location</td>\n",
       "      <td>The views of the mountains was spectacular and...</td>\n",
       "      <td>5.0</td>\n",
       "    </tr>\n",
       "    <tr>\n",
       "      <th>35890</th>\n",
       "      <td>Don't book with any other company!</td>\n",
       "      <td>This is my first review on Trip Advisor simply...</td>\n",
       "      <td>5.0</td>\n",
       "    </tr>\n",
       "    <tr>\n",
       "      <th>35891</th>\n",
       "      <td>Gorgeous cabin with amazing view</td>\n",
       "      <td>I went on a girls trip and my friend booked th...</td>\n",
       "      <td>5.0</td>\n",
       "    </tr>\n",
       "    <tr>\n",
       "      <th>35892</th>\n",
       "      <td>GORGEOUS CABINS</td>\n",
       "      <td>We had a great time loved the cabins! We staye...</td>\n",
       "      <td>5.0</td>\n",
       "    </tr>\n",
       "    <tr>\n",
       "      <th>35901</th>\n",
       "      <td>Breathtaking Views Cabin</td>\n",
       "      <td>We had a wonderful visit to Breathtaking Views...</td>\n",
       "      <td>5.0</td>\n",
       "    </tr>\n",
       "    <tr>\n",
       "      <th>35902</th>\n",
       "      <td>Driveway is out of control dangerous</td>\n",
       "      <td>We are extremely disappointed in this company....</td>\n",
       "      <td>1.0</td>\n",
       "    </tr>\n",
       "    <tr>\n",
       "      <th>35905</th>\n",
       "      <td>We Loved It!</td>\n",
       "      <td>We truly enjoyed staying at the Elk Springs re...</td>\n",
       "      <td>5.0</td>\n",
       "    </tr>\n",
       "  </tbody>\n",
       "</table>\n",
       "<p>16794 rows × 3 columns</p>\n",
       "</div>"
      ],
      "text/plain": [
       "                                           reviews.title  \\\n",
       "0                     Good location away from the crouds   \n",
       "1                         Great hotel with Jacuzzi bath!   \n",
       "2                                            Lugnt l��ge   \n",
       "8                                         G��nstige Lage   \n",
       "9                                            Ro og hygge   \n",
       "10                  Tr��s bon h��tel calme et agr��able.   \n",
       "11      It was ok hotel is nice from in and out but room   \n",
       "12                               Sehr angenehmes Hotel !   \n",
       "13                                               Tip top   \n",
       "16       Nice hotel with very friendly and helpful staff   \n",
       "17                    Guter Ausgangspunkt f��r Ausfl��ge   \n",
       "19                             Hotellihuone oli pettymys   \n",
       "20                  Dungeons, Drain Flies and Centipedes   \n",
       "21            Excellent hotel with good access to Venice   \n",
       "22                           Sch��ne Lage, ruhige Gegend   \n",
       "23      Lovely stay - second time staying at this hotel.   \n",
       "24      Tolles Hotel f��r einen St��dtetrip nach Venedig   \n",
       "31                           une belle semaine �� Venise   \n",
       "33                        stayed before and after cruise   \n",
       "35                         Calme, bien situ�� et correct   \n",
       "36                   Best Front Desk Receptionist EVER!!   \n",
       "39                       Godt hotel p�� Lidoen i Venedig   \n",
       "41                  Nice Hotel on the quiet part of Lido   \n",
       "42                                Bra til rabattert pris   \n",
       "45          Good option, great staff, quiet neighborhood   \n",
       "46                                  Decent Hotel on Lido   \n",
       "47                                        Very pleasant.   \n",
       "49                        Clean hotel with amazing staff   \n",
       "50                  ��������������� ������ ������������!   \n",
       "54                                    Good pleasant pick   \n",
       "...                                                  ...   \n",
       "35841                    Amazing location and great stay   \n",
       "35844                            Poor customer relations   \n",
       "35845             Couple and Toddler at Deer to My Heart   \n",
       "35850  Elk Springs Resort- Urban Cowboy NOT AS ADVERT...   \n",
       "35851                              How sweet it is cabin   \n",
       "35852                                      Awesome Views   \n",
       "35853                             Caution When Reserving   \n",
       "35854                             Perfect Cabin Retreat!   \n",
       "35857                                          BlackJack   \n",
       "35861                                    Fun family trip   \n",
       "35862                                       Fell in Love   \n",
       "35863       Great fall stay in the Great Smoky Mountains   \n",
       "35867                                         Amazing!!!   \n",
       "35868         Problems that could have easily been fixed   \n",
       "35872                           Very nice peaceful cabin   \n",
       "35873                                    Very good cabin   \n",
       "35874                                        Five stars!   \n",
       "35877                    Wonderful stay in the mountains   \n",
       "35878                                     Touch of Class   \n",
       "35879                                     We'll be Back!   \n",
       "35880                                 Cabin: Eagles Nest   \n",
       "35882                  Best place to stay in Gatlinburg!   \n",
       "35888                   Great location, Very Clean Cabin   \n",
       "35889                           Great Views and Location   \n",
       "35890                 Don't book with any other company!   \n",
       "35891                   Gorgeous cabin with amazing view   \n",
       "35892                                    GORGEOUS CABINS   \n",
       "35901                           Breathtaking Views Cabin   \n",
       "35902               Driveway is out of control dangerous   \n",
       "35905                                       We Loved It!   \n",
       "\n",
       "                                            reviews.text  reviews.rating  \n",
       "0      Pleasant 10 min walk along the sea front to th...             4.0  \n",
       "1      Really lovely hotel. Stayed on the very top fl...             5.0  \n",
       "2      Ett mycket bra hotell. Det som drog ner betyge...             5.0  \n",
       "8      Gnstiger Ausgangspunkt fr Venedig Besuche. Ruh...             3.0  \n",
       "9      Lidoen er perfekt til et par dages ro og afsla...             4.0  \n",
       "10     Accueil chaleureux, en franais Changement du l...             4.0  \n",
       "11     It was ok hotel is nice from in and out but ro...             3.0  \n",
       "12     Klasse Frhstck, freundliches und aufmerksames ...             4.0  \n",
       "13     Bardzo sympatyczna obsuga, klimat hotelu. wiet...             4.0  \n",
       "16     Nice hotel , with very friendly staff and help...             4.0  \n",
       "17     Wir hatten leider Pech mit unserem Zimmer,war ...             4.0  \n",
       "19     Hotellihuone oli ullakolla, jossa ei pystynyt ...             1.0  \n",
       "20     DON'T stay here unless you're less than 2 feet...             1.0  \n",
       "21     We had absolutely no problems whatsoever with ...             5.0  \n",
       "22     Wir buchten das Hotel fr 4 Nchte in der Woche ...             4.0  \n",
       "23     Lovely hotel, 10 min walk to the water bus sto...             5.0  \n",
       "24     Das Hotel liegt auf der Insel Lido neben Vened...             5.0  \n",
       "31     Nous avons pass 4 jours dans cet htel situ 5 m...             4.0  \n",
       "33     It was a 10 min+ walk to water bus, would have...             4.0  \n",
       "35     Htel trs bien situ dans un coin calme loin de ...             4.0  \n",
       "36     VERY FRIENDLY AND HELPFUL WITH DIRECTIONS, KNO...             5.0  \n",
       "39     Havde 7 overnatninger i april 2015 p Hotel Rus...             5.0  \n",
       "41     Really enjoyed the stay, about a 10min walk to...             5.0  \n",
       "42                     Nyrenovert bad hevet opplevelsen.             3.0  \n",
       "45     If you're looking for a hotel where the action...             3.0  \n",
       "46     Hotel facilities are good and breakfast ample....             4.0  \n",
       "47     Friendly reception very helpful. Hotel has ple...             4.0  \n",
       "49     Great hotel, staff where amazing and the locat...             5.0  \n",
       "50                                   , , , . , , 1 ! , .             4.0  \n",
       "54     Nice staff. Nice location. We booked two night...             5.0  \n",
       "...                                                  ...             ...  \n",
       "35841  We rented a 4 bedroom, 3 bathroom unit (A Moun...             5.0  \n",
       "35844  No working refrigerator: / Back in June we had...             2.0  \n",
       "35845  Everything about our stay was fantastic! We fo...             5.0  \n",
       "35850  We stayed in Elk Springs Resort's Urban Cowboy...             1.0  \n",
       "35851  Excellent views, new, stocked with everything ...             5.0  \n",
       "35852  We stayed in a cabin called above the treetops...             5.0  \n",
       "35853  Very nice people to work with but I would caut...             2.0  \n",
       "35854  My husband and I rented a 1 bedroom cabin whic...             5.0  \n",
       "35857  Very disappointed for the price we paid. This ...             3.0  \n",
       "35861  My husband and I visited with my daughter, her...             4.0  \n",
       "35862  We spent five nights at Ridgetop Retreat 50 fo...             5.0  \n",
       "35863  We stayed at the Bearfoot Memories cabin. The ...             4.0  \n",
       "35867  This was, by and far, one of the best vacation...             5.0  \n",
       "35868  We have stayed at Elk Springs Resort several t...             2.0  \n",
       "35872  We stayed in the cabin named Beary Cozy. Didn'...             5.0  \n",
       "35873  We rented a cabin and was very impressed With ...             4.0  \n",
       "35874  Family of four. Stayed in Bearfoot Memories ca...             5.0  \n",
       "35877  My family and I stayed at the Silver Creek cab...             5.0  \n",
       "35878  We stayed 3 nights in theTouch of Class cabin ...             5.0  \n",
       "35879  My husband and I came for the weekend to celeb...             5.0  \n",
       "35880  Excellent! Very nice cabins! Felt like home! T...             5.0  \n",
       "35882  We stayed in Smoky Mountain Romance with our 3...             5.0  \n",
       "35888  We really enjoyed our stay. The accommodations...             4.0  \n",
       "35889  The views of the mountains was spectacular and...             5.0  \n",
       "35890  This is my first review on Trip Advisor simply...             5.0  \n",
       "35891  I went on a girls trip and my friend booked th...             5.0  \n",
       "35892  We had a great time loved the cabins! We staye...             5.0  \n",
       "35901  We had a wonderful visit to Breathtaking Views...             5.0  \n",
       "35902  We are extremely disappointed in this company....             1.0  \n",
       "35905  We truly enjoyed staying at the Elk Springs re...             5.0  \n",
       "\n",
       "[16794 rows x 3 columns]"
      ]
     },
     "execution_count": 14,
     "metadata": {},
     "output_type": "execute_result"
    }
   ],
   "source": [
    "cleaned"
   ]
  },
  {
   "cell_type": "markdown",
   "metadata": {},
   "source": [
    "### Combine the review title and text"
   ]
  },
  {
   "cell_type": "code",
   "execution_count": 15,
   "metadata": {
    "collapsed": false
   },
   "outputs": [],
   "source": [
    "cleaned['review'] = cleaned['reviews.title'] + ' ' + cleaned['reviews.text']\n",
    "cleaned.drop(labels=['reviews.title', 'reviews.text'], inplace=True, axis=1)\n",
    "cleaned.rename(index=str, columns={'reviews.rating': 'rating'}, inplace=True)"
   ]
  },
  {
   "cell_type": "code",
   "execution_count": 16,
   "metadata": {
    "collapsed": false
   },
   "outputs": [
    {
     "data": {
      "text/html": [
       "<div>\n",
       "<style>\n",
       "    .dataframe thead tr:only-child th {\n",
       "        text-align: right;\n",
       "    }\n",
       "\n",
       "    .dataframe thead th {\n",
       "        text-align: left;\n",
       "    }\n",
       "\n",
       "    .dataframe tbody tr th {\n",
       "        vertical-align: top;\n",
       "    }\n",
       "</style>\n",
       "<table border=\"1\" class=\"dataframe\">\n",
       "  <thead>\n",
       "    <tr style=\"text-align: right;\">\n",
       "      <th></th>\n",
       "      <th>rating</th>\n",
       "      <th>review</th>\n",
       "    </tr>\n",
       "  </thead>\n",
       "  <tbody>\n",
       "    <tr>\n",
       "      <th>0</th>\n",
       "      <td>4.0</td>\n",
       "      <td>Good location away from the crouds Pleasant 10...</td>\n",
       "    </tr>\n",
       "    <tr>\n",
       "      <th>1</th>\n",
       "      <td>5.0</td>\n",
       "      <td>Great hotel with Jacuzzi bath! Really lovely h...</td>\n",
       "    </tr>\n",
       "    <tr>\n",
       "      <th>2</th>\n",
       "      <td>5.0</td>\n",
       "      <td>Lugnt l��ge Ett mycket bra hotell. Det som dro...</td>\n",
       "    </tr>\n",
       "    <tr>\n",
       "      <th>8</th>\n",
       "      <td>3.0</td>\n",
       "      <td>G��nstige Lage Gnstiger Ausgangspunkt fr Vened...</td>\n",
       "    </tr>\n",
       "    <tr>\n",
       "      <th>9</th>\n",
       "      <td>4.0</td>\n",
       "      <td>Ro og hygge Lidoen er perfekt til et par dages...</td>\n",
       "    </tr>\n",
       "  </tbody>\n",
       "</table>\n",
       "</div>"
      ],
      "text/plain": [
       "   rating                                             review\n",
       "0     4.0  Good location away from the crouds Pleasant 10...\n",
       "1     5.0  Great hotel with Jacuzzi bath! Really lovely h...\n",
       "2     5.0  Lugnt l��ge Ett mycket bra hotell. Det som dro...\n",
       "8     3.0  G��nstige Lage Gnstiger Ausgangspunkt fr Vened...\n",
       "9     4.0  Ro og hygge Lidoen er perfekt til et par dages..."
      ]
     },
     "execution_count": 16,
     "metadata": {},
     "output_type": "execute_result"
    }
   ],
   "source": [
    "cleaned.head()"
   ]
  },
  {
   "cell_type": "markdown",
   "metadata": {},
   "source": [
    "### Drop NaN values\n",
    "- We will not use data that in not complete"
   ]
  },
  {
   "cell_type": "code",
   "execution_count": 17,
   "metadata": {
    "collapsed": true
   },
   "outputs": [],
   "source": [
    "cleaned = cleaned.dropna()"
   ]
  },
  {
   "cell_type": "code",
   "execution_count": 18,
   "metadata": {
    "collapsed": false
   },
   "outputs": [
    {
     "data": {
      "text/plain": [
       "(16726, 2)"
      ]
     },
     "execution_count": 18,
     "metadata": {},
     "output_type": "execute_result"
    }
   ],
   "source": [
    "cleaned.shape"
   ]
  },
  {
   "cell_type": "markdown",
   "metadata": {},
   "source": [
    "### Remove duplicate rows"
   ]
  },
  {
   "cell_type": "code",
   "execution_count": 19,
   "metadata": {
    "collapsed": false
   },
   "outputs": [
    {
     "name": "stderr",
     "output_type": "stream",
     "text": [
      "/Users/rtjfarrimond/anaconda3/lib/python3.6/site-packages/ipykernel/__main__.py:1: SettingWithCopyWarning: \n",
      "A value is trying to be set on a copy of a slice from a DataFrame\n",
      "\n",
      "See the caveats in the documentation: http://pandas.pydata.org/pandas-docs/stable/indexing.html#indexing-view-versus-copy\n",
      "  if __name__ == '__main__':\n"
     ]
    }
   ],
   "source": [
    "cleaned.drop_duplicates(inplace=True)"
   ]
  },
  {
   "cell_type": "code",
   "execution_count": 20,
   "metadata": {
    "collapsed": false
   },
   "outputs": [
    {
     "data": {
      "text/plain": [
       "(16726, 2)"
      ]
     },
     "execution_count": 20,
     "metadata": {},
     "output_type": "execute_result"
    }
   ],
   "source": [
    "cleaned.shape"
   ]
  },
  {
   "cell_type": "markdown",
   "metadata": {},
   "source": [
    "### Remove noisy ratings\n",
    "- Vast majority of ratings are one of {1.0, 2.0, 3.0, 4.0, 5.0}.\n",
    "- Suggests at one point in time the rating scale was 0.0-10.0, but since adjusted to 0-5.\n",
    "- Therefore, drop any rows with ratings that are not in {1.0, 2.0, 3.0, 4.0, 5.0}"
   ]
  },
  {
   "cell_type": "code",
   "execution_count": 21,
   "metadata": {
    "collapsed": false
   },
   "outputs": [],
   "source": [
    "cleaned = cleaned[cleaned['rating'].isin([1.0, 2.0, 3.0, 4.0, 5.0])]"
   ]
  },
  {
   "cell_type": "code",
   "execution_count": 22,
   "metadata": {
    "collapsed": false
   },
   "outputs": [
    {
     "data": {
      "text/plain": [
       "(16450, 2)"
      ]
     },
     "execution_count": 22,
     "metadata": {},
     "output_type": "execute_result"
    }
   ],
   "source": [
    "cleaned.shape"
   ]
  },
  {
   "cell_type": "code",
   "execution_count": 23,
   "metadata": {
    "collapsed": false
   },
   "outputs": [
    {
     "data": {
      "text/plain": [
       "5.0    6070\n",
       "4.0    4669\n",
       "3.0    2686\n",
       "1.0    1530\n",
       "2.0    1495\n",
       "Name: rating, dtype: int64"
      ]
     },
     "execution_count": 23,
     "metadata": {},
     "output_type": "execute_result"
    }
   ],
   "source": [
    "cleaned['rating'].value_counts()"
   ]
  },
  {
   "cell_type": "markdown",
   "metadata": {},
   "source": [
    "### Clean the text\n",
    "- We must lowercase all reviews so that the model is invarient to case\n",
    "- Remove punctuation and invalid characters, since they are not relevant to semantics"
   ]
  },
  {
   "cell_type": "code",
   "execution_count": 24,
   "metadata": {
    "collapsed": true
   },
   "outputs": [],
   "source": [
    "def clean_text(text):\n",
    "    return text.replace('�', '').lower().translate(str.maketrans('', '', string.punctuation)).strip()"
   ]
  },
  {
   "cell_type": "code",
   "execution_count": 25,
   "metadata": {
    "collapsed": false
   },
   "outputs": [],
   "source": [
    "cleaned['review'] = cleaned['review'].apply(clean_text)"
   ]
  },
  {
   "cell_type": "code",
   "execution_count": 26,
   "metadata": {
    "collapsed": false
   },
   "outputs": [
    {
     "data": {
      "text/plain": [
       "(16450, 2)"
      ]
     },
     "execution_count": 26,
     "metadata": {},
     "output_type": "execute_result"
    }
   ],
   "source": [
    "cleaned.shape"
   ]
  },
  {
   "cell_type": "markdown",
   "metadata": {},
   "source": [
    "### Remove non-English reviews\n",
    "- For simplicity, in this example we will only consider reviews in one language"
   ]
  },
  {
   "cell_type": "code",
   "execution_count": 27,
   "metadata": {
    "collapsed": true
   },
   "outputs": [],
   "source": [
    "def exception_safe_detect(s):\n",
    "    try:\n",
    "        return detect(s)\n",
    "    except:\n",
    "        return ''"
   ]
  },
  {
   "cell_type": "code",
   "execution_count": 28,
   "metadata": {
    "collapsed": false,
    "scrolled": true
   },
   "outputs": [],
   "source": [
    "cleaned = cleaned[cleaned['review'].apply(exception_safe_detect) == 'en']"
   ]
  },
  {
   "cell_type": "code",
   "execution_count": 29,
   "metadata": {
    "collapsed": false,
    "scrolled": true
   },
   "outputs": [
    {
     "data": {
      "text/plain": [
       "(15612, 2)"
      ]
     },
     "execution_count": 29,
     "metadata": {},
     "output_type": "execute_result"
    }
   ],
   "source": [
    "cleaned.shape"
   ]
  },
  {
   "cell_type": "code",
   "execution_count": 30,
   "metadata": {
    "collapsed": false
   },
   "outputs": [],
   "source": [
    "# Last chance to remove dupes before tokenizing, since lists are unhashable\n",
    "cleaned.drop_duplicates(inplace=True, keep=False, subset='review')"
   ]
  },
  {
   "cell_type": "code",
   "execution_count": 31,
   "metadata": {
    "collapsed": false,
    "scrolled": true
   },
   "outputs": [
    {
     "data": {
      "text/plain": [
       "(15600, 2)"
      ]
     },
     "execution_count": 31,
     "metadata": {},
     "output_type": "execute_result"
    }
   ],
   "source": [
    "cleaned.shape"
   ]
  },
  {
   "cell_type": "markdown",
   "metadata": {},
   "source": [
    "### Tokenise the reviews\n",
    "In order to train the doc2vec model, the reviews must be tokenised into a list of strings."
   ]
  },
  {
   "cell_type": "code",
   "execution_count": 32,
   "metadata": {
    "collapsed": false
   },
   "outputs": [],
   "source": [
    "cleaned['review'] = cleaned['review'].str.split()"
   ]
  },
  {
   "cell_type": "code",
   "execution_count": 33,
   "metadata": {
    "collapsed": false
   },
   "outputs": [
    {
     "data": {
      "text/html": [
       "<div>\n",
       "<style>\n",
       "    .dataframe thead tr:only-child th {\n",
       "        text-align: right;\n",
       "    }\n",
       "\n",
       "    .dataframe thead th {\n",
       "        text-align: left;\n",
       "    }\n",
       "\n",
       "    .dataframe tbody tr th {\n",
       "        vertical-align: top;\n",
       "    }\n",
       "</style>\n",
       "<table border=\"1\" class=\"dataframe\">\n",
       "  <thead>\n",
       "    <tr style=\"text-align: right;\">\n",
       "      <th></th>\n",
       "      <th>rating</th>\n",
       "      <th>review</th>\n",
       "    </tr>\n",
       "  </thead>\n",
       "  <tbody>\n",
       "    <tr>\n",
       "      <th>0</th>\n",
       "      <td>4.0</td>\n",
       "      <td>[good, location, away, from, the, crouds, plea...</td>\n",
       "    </tr>\n",
       "    <tr>\n",
       "      <th>1</th>\n",
       "      <td>5.0</td>\n",
       "      <td>[great, hotel, with, jacuzzi, bath, really, lo...</td>\n",
       "    </tr>\n",
       "    <tr>\n",
       "      <th>11</th>\n",
       "      <td>3.0</td>\n",
       "      <td>[it, was, ok, hotel, is, nice, from, in, and, ...</td>\n",
       "    </tr>\n",
       "    <tr>\n",
       "      <th>16</th>\n",
       "      <td>4.0</td>\n",
       "      <td>[nice, hotel, with, very, friendly, and, helpf...</td>\n",
       "    </tr>\n",
       "    <tr>\n",
       "      <th>20</th>\n",
       "      <td>1.0</td>\n",
       "      <td>[dungeons, drain, flies, and, centipedes, dont...</td>\n",
       "    </tr>\n",
       "  </tbody>\n",
       "</table>\n",
       "</div>"
      ],
      "text/plain": [
       "    rating                                             review\n",
       "0      4.0  [good, location, away, from, the, crouds, plea...\n",
       "1      5.0  [great, hotel, with, jacuzzi, bath, really, lo...\n",
       "11     3.0  [it, was, ok, hotel, is, nice, from, in, and, ...\n",
       "16     4.0  [nice, hotel, with, very, friendly, and, helpf...\n",
       "20     1.0  [dungeons, drain, flies, and, centipedes, dont..."
      ]
     },
     "execution_count": 33,
     "metadata": {},
     "output_type": "execute_result"
    }
   ],
   "source": [
    "cleaned.head()"
   ]
  },
  {
   "cell_type": "markdown",
   "metadata": {},
   "source": [
    "## Train and evaluate doc2vec model\n",
    "We will split the cleaned data into train and test sets to fit and evaluate a doc2vec model. "
   ]
  },
  {
   "cell_type": "code",
   "execution_count": 34,
   "metadata": {
    "collapsed": false
   },
   "outputs": [],
   "source": [
    "x_train, x_test, y_train, y_test = train_test_split(\n",
    "    cleaned['review'], cleaned['rating'], test_size=0.2, random_state=42)"
   ]
  },
  {
   "cell_type": "code",
   "execution_count": 35,
   "metadata": {
    "collapsed": true
   },
   "outputs": [],
   "source": [
    "documents = [TaggedDocument(doc, [i]) for i, doc in enumerate(x_train)]"
   ]
  },
  {
   "cell_type": "code",
   "execution_count": 36,
   "metadata": {
    "collapsed": true
   },
   "outputs": [],
   "source": [
    "model = Doc2Vec(vector_size=50, min_count=2, epochs=40)"
   ]
  },
  {
   "cell_type": "code",
   "execution_count": 37,
   "metadata": {
    "collapsed": false
   },
   "outputs": [],
   "source": [
    "model.build_vocab(documents)"
   ]
  },
  {
   "cell_type": "code",
   "execution_count": 38,
   "metadata": {
    "collapsed": false
   },
   "outputs": [
    {
     "name": "stdout",
     "output_type": "stream",
     "text": [
      "CPU times: user 52.1 s, sys: 6.89 s, total: 59 s\n",
      "Wall time: 28.5 s\n"
     ]
    }
   ],
   "source": [
    "%time model.train(documents, total_examples=model.corpus_count, epochs=model.epochs)"
   ]
  },
  {
   "cell_type": "markdown",
   "metadata": {},
   "source": [
    "### Sanity check the model\n",
    "Check the similarity ranks for documents from the training set. If the model is working properly, the query document should be ranked 0th in the similarity results."
   ]
  },
  {
   "cell_type": "code",
   "execution_count": 39,
   "metadata": {
    "collapsed": false
   },
   "outputs": [
    {
     "name": "stderr",
     "output_type": "stream",
     "text": [
      "/Users/rtjfarrimond/anaconda3/lib/python3.6/site-packages/gensim/matutils.py:737: FutureWarning: Conversion of the second argument of issubdtype from `int` to `np.signedinteger` is deprecated. In future, it will be treated as `np.int64 == np.dtype(int).type`.\n",
      "  if np.issubdtype(vec.dtype, np.int):\n"
     ]
    }
   ],
   "source": [
    "ranks = []\n",
    "\n",
    "for i in range(len(x_train)):\n",
    "    inferred_vector = model.infer_vector(x_train.iloc[i])\n",
    "    sims = model.docvecs.most_similar([inferred_vector], topn=len(model.docvecs))\n",
    "    ranks.append([docid for docid, _ in sims].index(i))"
   ]
  },
  {
   "cell_type": "code",
   "execution_count": 40,
   "metadata": {
    "collapsed": false
   },
   "outputs": [
    {
     "data": {
      "text/plain": [
       "<matplotlib.text.Text at 0x11f93fac8>"
      ]
     },
     "execution_count": 40,
     "metadata": {},
     "output_type": "execute_result"
    },
    {
     "data": {
      "image/png": "[encoded data removed]",
      "text/plain": [
       "<matplotlib.figure.Figure at 0x122727320>"
      ]
     },
     "metadata": {},
     "output_type": "display_data"
    }
   ],
   "source": [
    "pd.Series(ranks).value_counts().plot('bar')\n",
    "plt.title('Train set self-similarity')\n",
    "plt.xlabel('Rank')\n",
    "plt.ylabel('Frequency')"
   ]
  },
  {
   "cell_type": "code",
   "execution_count": 41,
   "metadata": {
    "collapsed": true
   },
   "outputs": [],
   "source": [
    "model.save('doc2vec.mdl')"
   ]
  },
  {
   "cell_type": "markdown",
   "metadata": {},
   "source": [
    "### Examine the similarity results\n",
    "Let's continue looking at the train set, and inspect the similarity results. We will look at the 10 most similar results to each document in the train set and refer to `y_train` to examine whether the ratings are similar, taking the mode of these values."
   ]
  },
  {
   "cell_type": "code",
   "execution_count": 42,
   "metadata": {
    "collapsed": true
   },
   "outputs": [],
   "source": [
    "def plot_confusion_matrix(cm, classes,\n",
    "                          normalize=False,\n",
    "                          title='Confusion matrix',\n",
    "                          cmap='coolwarm'):\n",
    "    \"\"\"\n",
    "    This function prints and plots the confusion matrix.\n",
    "    Normalization can be applied by setting `normalize=True`.\n",
    "    \"\"\"\n",
    "    if normalize:\n",
    "        cm = cm.astype('float') / cm.sum(axis=1)[:, np.newaxis]\n",
    "\n",
    "    plt.imshow(cm, interpolation='nearest', cmap=cmap)\n",
    "    plt.title(title)\n",
    "    plt.colorbar()\n",
    "    tick_marks = np.arange(len(classes))\n",
    "    plt.xticks(tick_marks, classes, rotation=45)\n",
    "    plt.yticks(tick_marks, classes)\n",
    "\n",
    "    fmt = '.2f' if normalize else 'd'\n",
    "    thresh = cm.max() / 2.\n",
    "    for i, j in itertools.product(range(cm.shape[0]), range(cm.shape[1])):\n",
    "        plt.text(j, i, format(cm[i, j], fmt),\n",
    "                 horizontalalignment=\"center\",\n",
    "                 color=\"white\" if cm[i, j] > thresh else \"black\")\n",
    "\n",
    "    plt.tight_layout()\n",
    "    plt.ylabel('True label')\n",
    "    plt.xlabel('Predicted label')"
   ]
  },
  {
   "cell_type": "code",
   "execution_count": 53,
   "metadata": {
    "collapsed": true
   },
   "outputs": [],
   "source": [
    "def inspect_ratings(x, y, docvec_labels):\n",
    "    ratings = {}\n",
    "    \n",
    "    for i in range(len(x)):\n",
    "        inferred_vector = model.infer_vector(x.iloc[i])\n",
    "        rating = [docvec_labels[idx] for idx, _ in model.docvecs.most_similar([inferred_vector], topn=10)]\n",
    "        ratings[i] = rating\n",
    "        \n",
    "    conf_mat = confusion_matrix(y.values, [stats.mode(v)[0][0] for v in ratings.values()])\n",
    "        \n",
    "    return ratings, conf_mat"
   ]
  },
  {
   "cell_type": "code",
   "execution_count": 54,
   "metadata": {
    "collapsed": false,
    "scrolled": false
   },
   "outputs": [
    {
     "name": "stderr",
     "output_type": "stream",
     "text": [
      "/Users/rtjfarrimond/anaconda3/lib/python3.6/site-packages/gensim/matutils.py:737: FutureWarning: Conversion of the second argument of issubdtype from `int` to `np.signedinteger` is deprecated. In future, it will be treated as `np.int64 == np.dtype(int).type`.\n",
      "  if np.issubdtype(vec.dtype, np.int):\n"
     ]
    }
   ],
   "source": [
    "train_ratings, train_conf = inspect_ratings(x_train, y_train, y_train)"
   ]
  },
  {
   "cell_type": "code",
   "execution_count": 55,
   "metadata": {
    "collapsed": false
   },
   "outputs": [
    {
     "data": {
      "image/png": "[encoded data removed]",
      "text/plain": [
       "<matplotlib.figure.Figure at 0x11d779278>"
      ]
     },
     "metadata": {},
     "output_type": "display_data"
    }
   ],
   "source": [
    "sns.reset_orig()\n",
    "plot_confusion_matrix(train_conf, np.unique(y_train), normalize=True, title='Training set confusion')"
   ]
  },
  {
   "cell_type": "markdown",
   "metadata": {},
   "source": [
    "### Repeat above using the test set"
   ]
  },
  {
   "cell_type": "code",
   "execution_count": 56,
   "metadata": {
    "collapsed": false
   },
   "outputs": [
    {
     "name": "stderr",
     "output_type": "stream",
     "text": [
      "/Users/rtjfarrimond/anaconda3/lib/python3.6/site-packages/gensim/matutils.py:737: FutureWarning: Conversion of the second argument of issubdtype from `int` to `np.signedinteger` is deprecated. In future, it will be treated as `np.int64 == np.dtype(int).type`.\n",
      "  if np.issubdtype(vec.dtype, np.int):\n"
     ]
    }
   ],
   "source": [
    "test_ratings, test_conf = inspect_ratings(x_test, y_test, y_train)"
   ]
  },
  {
   "cell_type": "code",
   "execution_count": 57,
   "metadata": {
    "collapsed": false
   },
   "outputs": [
    {
     "data": {
      "image/png": "[encoded data removed]",
      "text/plain": [
       "<matplotlib.figure.Figure at 0x11f9a6f98>"
      ]
     },
     "metadata": {},
     "output_type": "display_data"
    }
   ],
   "source": [
    "plot_confusion_matrix(test_conf, np.unique(y_test), normalize=True, title='Test set confusion')"
   ]
  }
 ],
 "metadata": {
  "kernelspec": {
   "display_name": "Python 3",
   "language": "python",
   "name": "python3"
  },
  "language_info": {
   "codemirror_mode": {
    "name": "ipython",
    "version": 3
   },
   "file_extension": ".py",
   "mimetype": "text/x-python",
   "name": "python",
   "nbconvert_exporter": "python",
   "pygments_lexer": "ipython3",
   "version": "3.6.1"
  }
 },
 "nbformat": 4,
 "nbformat_minor": 2
}
